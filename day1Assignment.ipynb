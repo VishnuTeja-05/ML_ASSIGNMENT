{
 "cells": [
  {
   "cell_type": "code",
   "execution_count": null,
   "id": "39212452-082e-4bfe-9f3b-1236d540e8bd",
   "metadata": {},
   "outputs": [],
   "source": [
    "'''Write a program in Jupyter Notebook to declare variables \n",
    "of different data types (integer, float, string, and boolean).\n",
    "Print each variable and its type. '''"
   ]
  },
  {
   "cell_type": "code",
   "execution_count": 11,
   "id": "f3b54540-2c9d-4f19-9d2f-47cabb1b266a",
   "metadata": {},
   "outputs": [
    {
     "name": "stdout",
     "output_type": "stream",
     "text": [
      "5 <class 'int'>\n",
      "5.8 <class 'float'>\n",
      "Hello World <class 'str'>\n",
      "True <class 'bool'>\n",
      "(7+5j) <class 'complex'>\n"
     ]
    }
   ],
   "source": [
    "A=5\n",
    "B=5.8\n",
    "C=\"Hello World\"\n",
    "D=True\n",
    "E=7+5j\n",
    "print(A, type(A))\n",
    "print(B, type(B))\n",
    "print(C, type(C))\n",
    "print(D, type(D))\n",
    "print(E, type(E))\n"
   ]
  },
  {
   "cell_type": "code",
   "execution_count": null,
   "id": "7cee33f5-3c37-4b4a-87a0-f0e49a1a1e10",
   "metadata": {},
   "outputs": [],
   "source": []
  }
 ],
 "metadata": {
  "kernelspec": {
   "display_name": "Python [conda env:base] *",
   "language": "python",
   "name": "conda-base-py"
  },
  "language_info": {
   "codemirror_mode": {
    "name": "ipython",
    "version": 3
   },
   "file_extension": ".py",
   "mimetype": "text/x-python",
   "name": "python",
   "nbconvert_exporter": "python",
   "pygments_lexer": "ipython3",
   "version": "3.12.7"
  }
 },
 "nbformat": 4,
 "nbformat_minor": 5
}
